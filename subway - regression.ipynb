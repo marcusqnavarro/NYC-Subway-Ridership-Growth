{
 "cells": [
  {
   "cell_type": "code",
   "execution_count": 1,
   "id": "5f74f4f7",
   "metadata": {},
   "outputs": [],
   "source": [
    "import numpy as np\n",
    "import pandas as pd\n",
    "import statsmodels.api as sm\n",
    "import statsmodels.formula.api as smf\n",
    "from statsmodels.stats.outliers_influence import variance_inflation_factor\n",
    "from scipy.stats.mstats import winsorize"
   ]
  },
  {
   "cell_type": "code",
   "execution_count": 2,
   "id": "200acb5c",
   "metadata": {},
   "outputs": [],
   "source": [
    "data_df = pd.read_csv('regression data.csv')\n",
    "data_df = data_df.drop('station_geom', axis = 1)        # don't need geometry for regression"
   ]
  },
  {
   "cell_type": "markdown",
   "id": "76fbb415",
   "metadata": {},
   "source": [
    "# Cleaning"
   ]
  },
  {
   "cell_type": "code",
   "execution_count": 3,
   "id": "e5b49b81",
   "metadata": {},
   "outputs": [
    {
     "name": "stdout",
     "output_type": "stream",
     "text": [
      "           station  population_2013  population_2018  employee_count_2013  \\\n",
      "301  WTC Cortlandt          79710.0          88865.0             274262.0   \n",
      "\n",
      "     employee_count_2018  business_count_2013  business_count_2018    borough  \\\n",
      "301             308723.0              12976.0              12745.0  Manhattan   \n",
      "\n",
      "     route_count  ridership_2013  ridership_2018  rider_change  pop_change  \\\n",
      "301            1               0            3558          3558      9155.0   \n",
      "\n",
      "     emp_change  bus_change  \n",
      "301     34461.0      -231.0  \n"
     ]
    }
   ],
   "source": [
    "# the WTC Cortlandt station was still being rebuilt and didn't reopen until 2018 → drop any rows with 0 values for ridership, population, employees\n",
    "print(data_df[data_df['ridership_2013'] == 0])\n",
    "data_df = data_df[(data_df['ridership_2013'] > 0) & (data_df['ridership_2018'] > 0)]\n",
    "data_df = data_df[(data_df['population_2013'] > 0) & (data_df['population_2018'] > 0)]\n",
    "data_df = data_df[(data_df['employee_count_2013'] > 0) & (data_df['employee_count_2018'] > 0)]\n",
    "\n",
    "# keep relevent columns → the change columns, drop raw 2013 & 2018 counts\n",
    "data_df = data_df.drop(['population_2013','population_2018','employee_count_2013','employee_count_2018','business_count_2013','business_count_2018','ridership_2013','ridership_2018'], axis = 1)"
   ]
  },
  {
   "cell_type": "markdown",
   "id": "7e94c2da",
   "metadata": {},
   "source": [
    "### Skew & Winsorizing"
   ]
  },
  {
   "cell_type": "code",
   "execution_count": 4,
   "id": "718879f8",
   "metadata": {},
   "outputs": [
    {
     "data": {
      "text/plain": [
       "rider_change   -4.643054\n",
       "pop_change     -0.289284\n",
       "emp_change      2.919333\n",
       "bus_change     -0.733022\n",
       "dtype: float64"
      ]
     },
     "execution_count": 4,
     "metadata": {},
     "output_type": "execute_result"
    }
   ],
   "source": [
    "data_df.drop(['station','route_count','borough'], axis = 1).skew()\n",
    "\n",
    "        # ridership change and employee change is very skewed\n",
    "        # business change is moderately skewed\n",
    "\n",
    "        # need to winsorize"
   ]
  },
  {
   "cell_type": "code",
   "execution_count": 5,
   "id": "8046b614",
   "metadata": {},
   "outputs": [
    {
     "data": {
      "text/plain": [
       "rider_change   -2.942078\n",
       "pop_change     -0.289284\n",
       "emp_change      2.727304\n",
       "bus_change     -0.733022\n",
       "dtype: float64"
      ]
     },
     "execution_count": 5,
     "metadata": {},
     "output_type": "execute_result"
    }
   ],
   "source": [
    "# save new df for winsorizing\n",
    "win_df = data_df.drop(['station','route_count','borough'], axis = 1)\n",
    "\n",
    "win_df['rider_change'] = winsorize(win_df['rider_change'], limits = [0.01, 0.01])\n",
    "win_df['emp_change'] = winsorize(win_df['emp_change'], limits = [0.01, 0.01])\n",
    "\n",
    "win_df.skew()"
   ]
  },
  {
   "cell_type": "code",
   "execution_count": 6,
   "id": "515d0138",
   "metadata": {},
   "outputs": [
    {
     "data": {
      "text/plain": [
       "rider_change   -0.919157\n",
       "pop_change     -0.289284\n",
       "emp_change      1.173557\n",
       "bus_change     -0.733022\n",
       "dtype: float64"
      ]
     },
     "execution_count": 6,
     "metadata": {},
     "output_type": "execute_result"
    }
   ],
   "source": [
    "# still extremely skewed after 1% winsorizing → try 5%\n",
    "win_df = data_df.drop(['station','route_count','borough'], axis = 1)\n",
    "\n",
    "win_df['rider_change'] = winsorize(win_df['rider_change'], limits = [0.05, 0.05])\n",
    "win_df['emp_change'] = winsorize(win_df['emp_change'], limits = [0.05, 0.05])\n",
    "\n",
    "win_df.skew()"
   ]
  },
  {
   "cell_type": "code",
   "execution_count": 7,
   "id": "b1e91a4d",
   "metadata": {},
   "outputs": [],
   "source": [
    "# still a bit high but more accepting → apply to our dataset\n",
    "data_df['rider_change'] = winsorize(data_df['rider_change'], limits = [0.05, 0.05])\n",
    "data_df['emp_change'] = winsorize(data_df['emp_change'], limits = [0.05, 0.05])"
   ]
  },
  {
   "cell_type": "markdown",
   "id": "ac2b33df",
   "metadata": {},
   "source": [
    "### Add interaction terms"
   ]
  },
  {
   "cell_type": "code",
   "execution_count": 8,
   "id": "47da882f",
   "metadata": {},
   "outputs": [],
   "source": [
    "data_df['pop_x_emp'] = data_df['pop_change'] * data_df['emp_change']            # does having growth in both population and employment amplify effect?\n",
    "data_df['route_x_pop'] = data_df['route_count'] * data_df['emp_change']         # does population growth matter more for stations with more train lines?\n",
    "data_df['route_x_emp'] = data_df['route_count'] * data_df['emp_change']         # does employment growth matter more for stations with more train lines?"
   ]
  },
  {
   "cell_type": "code",
   "execution_count": 9,
   "id": "47827c9f",
   "metadata": {},
   "outputs": [
    {
     "name": "stdout",
     "output_type": "stream",
     "text": [
      "        feature       VIF\n",
      "0         const  4.097272\n",
      "1  rider_change  1.062860\n",
      "2    pop_change  3.413969\n",
      "3    emp_change  3.662688\n",
      "4    bus_change  1.254202\n",
      "5     pop_x_emp  4.833814\n",
      "6   route_x_pop       inf\n",
      "7   route_x_emp       inf\n"
     ]
    },
    {
     "name": "stderr",
     "output_type": "stream",
     "text": [
      "C:\\Users\\marcu\\AppData\\Local\\Packages\\PythonSoftwareFoundation.Python.3.13_qbz5n2kfra8p0\\LocalCache\\local-packages\\Python313\\site-packages\\statsmodels\\stats\\outliers_influence.py:197: RuntimeWarning: divide by zero encountered in scalar divide\n",
      "  vif = 1. / (1. - r_squared_i)\n"
     ]
    }
   ],
   "source": [
    "X = data_df.drop(['station','route_count','borough'], axis = 1)\n",
    "\n",
    "# add intercept\n",
    "X = sm.add_constant(X)\n",
    "vif_data = pd.DataFrame()\n",
    "vif_data['feature'] = X.columns\n",
    "vif_data['VIF'] = [variance_inflation_factor(X.values, i) for i in range(X.shape[1])]\n",
    "print(vif_data)"
   ]
  },
  {
   "cell_type": "code",
   "execution_count": 10,
   "id": "25c7f5ff",
   "metadata": {},
   "outputs": [
    {
     "name": "stdout",
     "output_type": "stream",
     "text": [
      "        feature       VIF\n",
      "0         const  4.077675\n",
      "1  rider_change  1.038346\n",
      "2    pop_change  3.367031\n",
      "3    emp_change  2.136912\n",
      "4    bus_change  1.188147\n",
      "5     pop_x_emp  4.808949\n"
     ]
    }
   ],
   "source": [
    "        # route_x_pop and route_x_emp   → perfect collinear         → drop these terms\n",
    "        # pop_x_emp                     → high but under 5          → keep for now\n",
    "        # others are low to moderate, drop the two route interactions and look again\n",
    "\n",
    "X = data_df.drop(['station','route_count','borough','route_x_pop','route_x_emp'], axis = 1)\n",
    "\n",
    "# add intercept\n",
    "X = sm.add_constant(X)\n",
    "vif_data = pd.DataFrame()\n",
    "vif_data['feature'] = X.columns\n",
    "vif_data['VIF'] = [variance_inflation_factor(X.values, i) for i in range(X.shape[1])]\n",
    "print(vif_data)"
   ]
  },
  {
   "cell_type": "code",
   "execution_count": 11,
   "id": "d7b5ecf8",
   "metadata": {},
   "outputs": [],
   "source": [
    "# pop_x_emp still high but under 5 (and it is an interaction so some collinearity is expected)\n",
    "# apply drops to dataset\n",
    "data_df= data_df.drop(['route_x_pop','route_x_emp'], axis = 1)"
   ]
  },
  {
   "cell_type": "markdown",
   "id": "422a39e6",
   "metadata": {},
   "source": [
    "# Model"
   ]
  },
  {
   "cell_type": "code",
   "execution_count": 12,
   "id": "99870508",
   "metadata": {},
   "outputs": [],
   "source": [
    "# make Manhattan the baseline borough as it's at the core of the transit system\n",
    "data_df['borough'] = pd.Categorical(data_df['borough'], categories=['Manhattan', 'Brooklyn', 'Queens', 'Bronx'])"
   ]
  },
  {
   "cell_type": "code",
   "execution_count": 13,
   "id": "b054c174",
   "metadata": {},
   "outputs": [
    {
     "name": "stderr",
     "output_type": "stream",
     "text": [
      "C:\\Users\\marcu\\AppData\\Local\\Packages\\PythonSoftwareFoundation.Python.3.13_qbz5n2kfra8p0\\LocalCache\\local-packages\\Python313\\site-packages\\statsmodels\\base\\model.py:1894: ValueWarning: covariance of constraints does not have full rank. The number of constraints is 8, but rank is 7\n",
      "  warnings.warn('covariance of constraints does not have full '\n"
     ]
    },
    {
     "data": {
      "text/html": [
       "<table class=\"simpletable\">\n",
       "<caption>OLS Regression Results</caption>\n",
       "<tr>\n",
       "  <th>Dep. Variable:</th>      <td>rider_change</td>   <th>  R-squared:         </th> <td>   0.159</td>\n",
       "</tr>\n",
       "<tr>\n",
       "  <th>Model:</th>                   <td>OLS</td>       <th>  Adj. R-squared:    </th> <td>   0.137</td>\n",
       "</tr>\n",
       "<tr>\n",
       "  <th>Method:</th>             <td>Least Squares</td>  <th>  F-statistic:       </th> <td>   6.835</td>\n",
       "</tr>\n",
       "<tr>\n",
       "  <th>Date:</th>             <td>Sun, 19 Oct 2025</td> <th>  Prob (F-statistic):</th> <td>1.50e-07</td>\n",
       "</tr>\n",
       "<tr>\n",
       "  <th>Time:</th>                 <td>22:19:31</td>     <th>  Log-Likelihood:    </th> <td> -2636.9</td>\n",
       "</tr>\n",
       "<tr>\n",
       "  <th>No. Observations:</th>      <td>   313</td>      <th>  AIC:               </th> <td>   5292.</td>\n",
       "</tr>\n",
       "<tr>\n",
       "  <th>Df Residuals:</th>          <td>   304</td>      <th>  BIC:               </th> <td>   5325.</td>\n",
       "</tr>\n",
       "<tr>\n",
       "  <th>Df Model:</th>              <td>     8</td>      <th>                     </th>     <td> </td>   \n",
       "</tr>\n",
       "<tr>\n",
       "  <th>Covariance Type:</th>         <td>HC3</td>       <th>                     </th>     <td> </td>   \n",
       "</tr>\n",
       "</table>\n",
       "<table class=\"simpletable\">\n",
       "<tr>\n",
       "           <td></td>              <th>coef</th>     <th>std err</th>      <th>z</th>      <th>P>|z|</th>  <th>[0.025</th>    <th>0.975]</th>  \n",
       "</tr>\n",
       "<tr>\n",
       "  <th>Intercept</th>           <td> -190.8274</td> <td>  266.088</td> <td>   -0.717</td> <td> 0.473</td> <td> -712.350</td> <td>  330.696</td>\n",
       "</tr>\n",
       "<tr>\n",
       "  <th>borough[T.Brooklyn]</th> <td>  642.1156</td> <td>  282.106</td> <td>    2.276</td> <td> 0.023</td> <td>   89.198</td> <td> 1195.034</td>\n",
       "</tr>\n",
       "<tr>\n",
       "  <th>borough[T.Queens]</th>   <td>  230.4907</td> <td>  285.175</td> <td>    0.808</td> <td> 0.419</td> <td> -328.441</td> <td>  789.423</td>\n",
       "</tr>\n",
       "<tr>\n",
       "  <th>borough[T.Bronx]</th>    <td>  156.4098</td> <td>  232.953</td> <td>    0.671</td> <td> 0.502</td> <td> -300.170</td> <td>  612.990</td>\n",
       "</tr>\n",
       "<tr>\n",
       "  <th>pop_change</th>          <td>    0.0215</td> <td>    0.014</td> <td>    1.498</td> <td> 0.134</td> <td>   -0.007</td> <td>    0.050</td>\n",
       "</tr>\n",
       "<tr>\n",
       "  <th>emp_change</th>          <td>    0.0002</td> <td>    0.011</td> <td>    0.016</td> <td> 0.987</td> <td>   -0.022</td> <td>    0.022</td>\n",
       "</tr>\n",
       "<tr>\n",
       "  <th>bus_change</th>          <td>   -0.1350</td> <td>    0.306</td> <td>   -0.441</td> <td> 0.659</td> <td>   -0.735</td> <td>    0.465</td>\n",
       "</tr>\n",
       "<tr>\n",
       "  <th>route_count</th>         <td> -324.7065</td> <td>   67.152</td> <td>   -4.835</td> <td> 0.000</td> <td> -456.322</td> <td> -193.091</td>\n",
       "</tr>\n",
       "<tr>\n",
       "  <th>pop_x_emp</th>           <td> -7.28e-08</td> <td> 9.17e-07</td> <td>   -0.079</td> <td> 0.937</td> <td>-1.87e-06</td> <td> 1.72e-06</td>\n",
       "</tr>\n",
       "</table>\n",
       "<table class=\"simpletable\">\n",
       "<tr>\n",
       "  <th>Omnibus:</th>       <td>15.157</td> <th>  Durbin-Watson:     </th> <td>   1.958</td>\n",
       "</tr>\n",
       "<tr>\n",
       "  <th>Prob(Omnibus):</th> <td> 0.001</td> <th>  Jarque-Bera (JB):  </th> <td>  17.085</td>\n",
       "</tr>\n",
       "<tr>\n",
       "  <th>Skew:</th>          <td>-0.461</td> <th>  Prob(JB):          </th> <td>0.000195</td>\n",
       "</tr>\n",
       "<tr>\n",
       "  <th>Kurtosis:</th>      <td> 3.678</td> <th>  Cond. No.          </th> <td>1.11e+09</td>\n",
       "</tr>\n",
       "</table><br/><br/>Notes:<br/>[1] Standard Errors are heteroscedasticity robust (HC3)<br/>[2] The condition number is large, 1.11e+09. This might indicate that there are<br/>strong multicollinearity or other numerical problems."
      ],
      "text/latex": [
       "\\begin{center}\n",
       "\\begin{tabular}{lclc}\n",
       "\\toprule\n",
       "\\textbf{Dep. Variable:}      &  rider\\_change   & \\textbf{  R-squared:         } &     0.159   \\\\\n",
       "\\textbf{Model:}              &       OLS        & \\textbf{  Adj. R-squared:    } &     0.137   \\\\\n",
       "\\textbf{Method:}             &  Least Squares   & \\textbf{  F-statistic:       } &     6.835   \\\\\n",
       "\\textbf{Date:}               & Sun, 19 Oct 2025 & \\textbf{  Prob (F-statistic):} &  1.50e-07   \\\\\n",
       "\\textbf{Time:}               &     22:19:31     & \\textbf{  Log-Likelihood:    } &   -2636.9   \\\\\n",
       "\\textbf{No. Observations:}   &         313      & \\textbf{  AIC:               } &     5292.   \\\\\n",
       "\\textbf{Df Residuals:}       &         304      & \\textbf{  BIC:               } &     5325.   \\\\\n",
       "\\textbf{Df Model:}           &           8      & \\textbf{                     } &             \\\\\n",
       "\\textbf{Covariance Type:}    &       HC3        & \\textbf{                     } &             \\\\\n",
       "\\bottomrule\n",
       "\\end{tabular}\n",
       "\\begin{tabular}{lcccccc}\n",
       "                             & \\textbf{coef} & \\textbf{std err} & \\textbf{z} & \\textbf{P$> |$z$|$} & \\textbf{[0.025} & \\textbf{0.975]}  \\\\\n",
       "\\midrule\n",
       "\\textbf{Intercept}           &    -190.8274  &      266.088     &    -0.717  &         0.473        &     -712.350    &      330.696     \\\\\n",
       "\\textbf{borough[T.Brooklyn]} &     642.1156  &      282.106     &     2.276  &         0.023        &       89.198    &     1195.034     \\\\\n",
       "\\textbf{borough[T.Queens]}   &     230.4907  &      285.175     &     0.808  &         0.419        &     -328.441    &      789.423     \\\\\n",
       "\\textbf{borough[T.Bronx]}    &     156.4098  &      232.953     &     0.671  &         0.502        &     -300.170    &      612.990     \\\\\n",
       "\\textbf{pop\\_change}         &       0.0215  &        0.014     &     1.498  &         0.134        &       -0.007    &        0.050     \\\\\n",
       "\\textbf{emp\\_change}         &       0.0002  &        0.011     &     0.016  &         0.987        &       -0.022    &        0.022     \\\\\n",
       "\\textbf{bus\\_change}         &      -0.1350  &        0.306     &    -0.441  &         0.659        &       -0.735    &        0.465     \\\\\n",
       "\\textbf{route\\_count}        &    -324.7065  &       67.152     &    -4.835  &         0.000        &     -456.322    &     -193.091     \\\\\n",
       "\\textbf{pop\\_x\\_emp}         &    -7.28e-08  &     9.17e-07     &    -0.079  &         0.937        &    -1.87e-06    &     1.72e-06     \\\\\n",
       "\\bottomrule\n",
       "\\end{tabular}\n",
       "\\begin{tabular}{lclc}\n",
       "\\textbf{Omnibus:}       & 15.157 & \\textbf{  Durbin-Watson:     } &    1.958  \\\\\n",
       "\\textbf{Prob(Omnibus):} &  0.001 & \\textbf{  Jarque-Bera (JB):  } &   17.085  \\\\\n",
       "\\textbf{Skew:}          & -0.461 & \\textbf{  Prob(JB):          } & 0.000195  \\\\\n",
       "\\textbf{Kurtosis:}      &  3.678 & \\textbf{  Cond. No.          } & 1.11e+09  \\\\\n",
       "\\bottomrule\n",
       "\\end{tabular}\n",
       "%\\caption{OLS Regression Results}\n",
       "\\end{center}\n",
       "\n",
       "Notes: \\newline\n",
       " [1] Standard Errors are heteroscedasticity robust (HC3) \\newline\n",
       " [2] The condition number is large, 1.11e+09. This might indicate that there are \\newline\n",
       " strong multicollinearity or other numerical problems."
      ],
      "text/plain": [
       "<class 'statsmodels.iolib.summary.Summary'>\n",
       "\"\"\"\n",
       "                            OLS Regression Results                            \n",
       "==============================================================================\n",
       "Dep. Variable:           rider_change   R-squared:                       0.159\n",
       "Model:                            OLS   Adj. R-squared:                  0.137\n",
       "Method:                 Least Squares   F-statistic:                     6.835\n",
       "Date:                Sun, 19 Oct 2025   Prob (F-statistic):           1.50e-07\n",
       "Time:                        22:19:31   Log-Likelihood:                -2636.9\n",
       "No. Observations:                 313   AIC:                             5292.\n",
       "Df Residuals:                     304   BIC:                             5325.\n",
       "Df Model:                           8                                         \n",
       "Covariance Type:                  HC3                                         \n",
       "=======================================================================================\n",
       "                          coef    std err          z      P>|z|      [0.025      0.975]\n",
       "---------------------------------------------------------------------------------------\n",
       "Intercept            -190.8274    266.088     -0.717      0.473    -712.350     330.696\n",
       "borough[T.Brooklyn]   642.1156    282.106      2.276      0.023      89.198    1195.034\n",
       "borough[T.Queens]     230.4907    285.175      0.808      0.419    -328.441     789.423\n",
       "borough[T.Bronx]      156.4098    232.953      0.671      0.502    -300.170     612.990\n",
       "pop_change              0.0215      0.014      1.498      0.134      -0.007       0.050\n",
       "emp_change              0.0002      0.011      0.016      0.987      -0.022       0.022\n",
       "bus_change             -0.1350      0.306     -0.441      0.659      -0.735       0.465\n",
       "route_count          -324.7065     67.152     -4.835      0.000    -456.322    -193.091\n",
       "pop_x_emp            -7.28e-08   9.17e-07     -0.079      0.937   -1.87e-06    1.72e-06\n",
       "==============================================================================\n",
       "Omnibus:                       15.157   Durbin-Watson:                   1.958\n",
       "Prob(Omnibus):                  0.001   Jarque-Bera (JB):               17.085\n",
       "Skew:                          -0.461   Prob(JB):                     0.000195\n",
       "Kurtosis:                       3.678   Cond. No.                     1.11e+09\n",
       "==============================================================================\n",
       "\n",
       "Notes:\n",
       "[1] Standard Errors are heteroscedasticity robust (HC3)\n",
       "[2] The condition number is large, 1.11e+09. This might indicate that there are\n",
       "strong multicollinearity or other numerical problems.\n",
       "\"\"\""
      ]
     },
     "execution_count": 13,
     "metadata": {},
     "output_type": "execute_result"
    }
   ],
   "source": [
    "formula = \"\"\"\n",
    "rider_change ~ pop_change \n",
    "    + borough\n",
    "    + emp_change\n",
    "    + bus_change\n",
    "    + route_count\n",
    "    + pop_x_emp\n",
    "\"\"\"\n",
    "\n",
    "model = smf.ols(formula = formula, data = data_df).fit(cov_type = 'HC3')\n",
    "model.summary()"
   ]
  },
  {
   "cell_type": "markdown",
   "id": "3b0364d3",
   "metadata": {},
   "source": [
    "#### Make summary more readable"
   ]
  },
  {
   "cell_type": "code",
   "execution_count": 14,
   "id": "4de53a7f",
   "metadata": {},
   "outputs": [],
   "source": [
    "# use * for significance\n",
    "def significance_stars(p):\n",
    "    if p < 0.01:\n",
    "        return '***'\n",
    "    elif p < 0.05:\n",
    "        return '**'\n",
    "    elif p < 0.10:\n",
    "        return '*'\n",
    "    else:\n",
    "        return 'NS'"
   ]
  },
  {
   "cell_type": "code",
   "execution_count": 15,
   "id": "18e69e81",
   "metadata": {},
   "outputs": [],
   "source": [
    "results = model\n",
    "\n",
    "# create summary dataframe\n",
    "summary_df = pd.DataFrame({\n",
    "    'Variable': results.params.index,\n",
    "    'Coefficient': results.params.values.round(1),\n",
    "    'p_value': results.pvalues.values\n",
    "})\n",
    "\n",
    "# use * for significance\n",
    "summary_df['Significance'] = summary_df['p_value'].apply(significance_stars)\n",
    "summary_df = summary_df[['Variable', 'Coefficient', 'Significance']]\n",
    "\n",
    "# rename variables for better readability\n",
    "readable_names = {\n",
    "    'Intercept':'Intercept (baseline when all variables = 0)',\n",
    "    'borough[T.Brooklyn]':'Brooklyn',\n",
    "    'borough[T.Queens]':'Queens',\n",
    "    'borough[T.Bronx]':'Bronx',\n",
    "    'pop_change':'Change in Population',\n",
    "    'emp_change':'Change in Employee Count',\n",
    "    'bus_change':'Change in Business Count',\n",
    "    'route_count':'Number of Subway Lines',\n",
    "    'pop_x_emp':'Population x Employees'\n",
    "}\n",
    "\n",
    "summary_df['Variable'] = summary_df['Variable'].replace(readable_names)"
   ]
  },
  {
   "cell_type": "code",
   "execution_count": 16,
   "id": "a12888d9",
   "metadata": {},
   "outputs": [],
   "source": [
    "# insert rows for headers\n",
    "boro_header = pd.DataFrame([['Borough Category — Relative to Manhattan','','']], columns = summary_df.columns)\n",
    "summary_df = pd.concat([summary_df.iloc[:1], boro_header, summary_df.iloc[1:]]).reset_index(drop = True)\n",
    "\n",
    "cont_header = pd.DataFrame([['Continuous Variables','','']], columns = summary_df.columns)\n",
    "summary_df = pd.concat([summary_df.iloc[:5], cont_header, summary_df.iloc[5:]]).reset_index(drop = True)\n",
    "\n",
    "interact_header = pd.DataFrame([['Interaction Terms','','']], columns = summary_df.columns)\n",
    "summary_df = pd.concat([summary_df.iloc[:10], interact_header, summary_df.iloc[10:]]).reset_index(drop = True)\n",
    "\n",
    "# insert spacing\n",
    "blank_row = pd.DataFrame([['','','']], columns=summary_df.columns)\n",
    "summary_df = pd.concat([summary_df.iloc[:1], blank_row, summary_df.iloc[1:]]).reset_index(drop = True)\n",
    "summary_df = pd.concat([summary_df.iloc[:6], blank_row, summary_df.iloc[6:]]).reset_index(drop = True)\n",
    "summary_df = pd.concat([summary_df.iloc[:12], blank_row, summary_df.iloc[12:]]).reset_index(drop = True)"
   ]
  },
  {
   "cell_type": "code",
   "execution_count": 17,
   "id": "3016f0d5",
   "metadata": {},
   "outputs": [
    {
     "name": "stdout",
     "output_type": "stream",
     "text": [
      "OLS Regression Results\n",
      "\n",
      "r^2: 0.1593\n",
      "\n",
      "Legend:\n",
      "Significance: *** p<0.01 | ** p<0.05 | * p<0.10 | NS = Not Significant\n",
      "Coefficient: expected change in annual riders (in thousands)\n"
     ]
    },
    {
     "data": {
      "text/html": [
       "<div>\n",
       "<style scoped>\n",
       "    .dataframe tbody tr th:only-of-type {\n",
       "        vertical-align: middle;\n",
       "    }\n",
       "\n",
       "    .dataframe tbody tr th {\n",
       "        vertical-align: top;\n",
       "    }\n",
       "\n",
       "    .dataframe thead th {\n",
       "        text-align: right;\n",
       "    }\n",
       "</style>\n",
       "<table border=\"1\" class=\"dataframe\">\n",
       "  <thead>\n",
       "    <tr style=\"text-align: right;\">\n",
       "      <th></th>\n",
       "      <th>Variable</th>\n",
       "      <th>Coefficient</th>\n",
       "      <th>Significance</th>\n",
       "    </tr>\n",
       "  </thead>\n",
       "  <tbody>\n",
       "    <tr>\n",
       "      <th>0</th>\n",
       "      <td>Intercept (baseline when all variables = 0)</td>\n",
       "      <td>-190.8</td>\n",
       "      <td>NS</td>\n",
       "    </tr>\n",
       "    <tr>\n",
       "      <th>1</th>\n",
       "      <td></td>\n",
       "      <td></td>\n",
       "      <td></td>\n",
       "    </tr>\n",
       "    <tr>\n",
       "      <th>2</th>\n",
       "      <td>Borough Category — Relative to Manhattan</td>\n",
       "      <td></td>\n",
       "      <td></td>\n",
       "    </tr>\n",
       "    <tr>\n",
       "      <th>3</th>\n",
       "      <td>Brooklyn</td>\n",
       "      <td>642.1</td>\n",
       "      <td>**</td>\n",
       "    </tr>\n",
       "    <tr>\n",
       "      <th>4</th>\n",
       "      <td>Queens</td>\n",
       "      <td>230.5</td>\n",
       "      <td>NS</td>\n",
       "    </tr>\n",
       "    <tr>\n",
       "      <th>5</th>\n",
       "      <td>Bronx</td>\n",
       "      <td>156.4</td>\n",
       "      <td>NS</td>\n",
       "    </tr>\n",
       "    <tr>\n",
       "      <th>6</th>\n",
       "      <td></td>\n",
       "      <td></td>\n",
       "      <td></td>\n",
       "    </tr>\n",
       "    <tr>\n",
       "      <th>7</th>\n",
       "      <td>Continuous Variables</td>\n",
       "      <td></td>\n",
       "      <td></td>\n",
       "    </tr>\n",
       "    <tr>\n",
       "      <th>8</th>\n",
       "      <td>Change in Population</td>\n",
       "      <td>0.0</td>\n",
       "      <td>NS</td>\n",
       "    </tr>\n",
       "    <tr>\n",
       "      <th>9</th>\n",
       "      <td>Change in Employee Count</td>\n",
       "      <td>0.0</td>\n",
       "      <td>NS</td>\n",
       "    </tr>\n",
       "    <tr>\n",
       "      <th>10</th>\n",
       "      <td>Change in Business Count</td>\n",
       "      <td>-0.1</td>\n",
       "      <td>NS</td>\n",
       "    </tr>\n",
       "    <tr>\n",
       "      <th>11</th>\n",
       "      <td>Number of Subway Lines</td>\n",
       "      <td>-324.7</td>\n",
       "      <td>***</td>\n",
       "    </tr>\n",
       "    <tr>\n",
       "      <th>12</th>\n",
       "      <td></td>\n",
       "      <td></td>\n",
       "      <td></td>\n",
       "    </tr>\n",
       "    <tr>\n",
       "      <th>13</th>\n",
       "      <td>Interaction Terms</td>\n",
       "      <td></td>\n",
       "      <td></td>\n",
       "    </tr>\n",
       "    <tr>\n",
       "      <th>14</th>\n",
       "      <td>Population x Employees</td>\n",
       "      <td>-0.0</td>\n",
       "      <td>NS</td>\n",
       "    </tr>\n",
       "  </tbody>\n",
       "</table>\n",
       "</div>"
      ],
      "text/plain": [
       "                                       Variable Coefficient Significance\n",
       "0   Intercept (baseline when all variables = 0)      -190.8           NS\n",
       "1                                                                       \n",
       "2      Borough Category — Relative to Manhattan                         \n",
       "3                                      Brooklyn       642.1           **\n",
       "4                                        Queens       230.5           NS\n",
       "5                                         Bronx       156.4           NS\n",
       "6                                                                       \n",
       "7                          Continuous Variables                         \n",
       "8                          Change in Population         0.0           NS\n",
       "9                      Change in Employee Count         0.0           NS\n",
       "10                     Change in Business Count        -0.1           NS\n",
       "11                       Number of Subway Lines      -324.7          ***\n",
       "12                                                                      \n",
       "13                            Interaction Terms                         \n",
       "14                       Population x Employees        -0.0           NS"
      ]
     },
     "execution_count": 17,
     "metadata": {},
     "output_type": "execute_result"
    }
   ],
   "source": [
    "print('OLS Regression Results')\n",
    "print('')\n",
    "print('r^2:', results.rsquared.round(4))\n",
    "print('')\n",
    "print('Legend:')\n",
    "print('Significance: *** p<0.01 | ** p<0.05 | * p<0.10 | NS = Not Significant')\n",
    "print('Coefficient: expected change in annual riders (in thousands)')\n",
    "summary_df"
   ]
  }
 ],
 "metadata": {
  "kernelspec": {
   "display_name": "Python 3",
   "language": "python",
   "name": "python3"
  },
  "language_info": {
   "codemirror_mode": {
    "name": "ipython",
    "version": 3
   },
   "file_extension": ".py",
   "mimetype": "text/x-python",
   "name": "python",
   "nbconvert_exporter": "python",
   "pygments_lexer": "ipython3",
   "version": "3.13.9"
  }
 },
 "nbformat": 4,
 "nbformat_minor": 5
}
